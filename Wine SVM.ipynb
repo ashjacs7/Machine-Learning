{
 "cells": [
  {
   "cell_type": "markdown",
   "metadata": {},
   "source": [
    "### SHOWING Linear SVM and RBF cannot be used for classification for few dataset"
   ]
  },
  {
   "cell_type": "code",
   "execution_count": 2,
   "metadata": {
    "collapsed": false
   },
   "outputs": [],
   "source": [
    "#importing libraries\n",
    "import numpy as np\n",
    "import pandas as pd\n",
    "from sklearn import datasets, svm \n",
    "from sklearn.cross_validation import train_test_split\n",
    "from sklearn.metrics import accuracy_score\n",
    "from sklearn.preprocessing import LabelEncoder\n",
    "import matplotlib.pyplot as plt\n",
    "\n",
    "import warnings\n",
    "warnings.filterwarnings('ignore')\n",
    "\n",
    "%matplotlib inline"
   ]
  },
  {
   "cell_type": "code",
   "execution_count": 3,
   "metadata": {
    "collapsed": false
   },
   "outputs": [],
   "source": [
    "wine=pd.read_csv('data/winequality-white - Copy.csv')"
   ]
  },
  {
   "cell_type": "code",
   "execution_count": 4,
   "metadata": {
    "collapsed": false
   },
   "outputs": [
    {
     "data": {
      "text/html": [
       "<div>\n",
       "<table border=\"1\" class=\"dataframe\">\n",
       "  <thead>\n",
       "    <tr style=\"text-align: right;\">\n",
       "      <th></th>\n",
       "      <th>fixed acidity</th>\n",
       "      <th>volatile acidity</th>\n",
       "      <th>citric acid</th>\n",
       "      <th>residual sugar</th>\n",
       "      <th>chlorides</th>\n",
       "      <th>free sulfur dioxide</th>\n",
       "      <th>total sulfur dioxide</th>\n",
       "      <th>density</th>\n",
       "      <th>pH</th>\n",
       "      <th>sulphates</th>\n",
       "      <th>alcohol</th>\n",
       "      <th>quality</th>\n",
       "    </tr>\n",
       "  </thead>\n",
       "  <tbody>\n",
       "    <tr>\n",
       "      <th>128</th>\n",
       "      <td>6.1</td>\n",
       "      <td>0.30</td>\n",
       "      <td>0.56</td>\n",
       "      <td>2.8</td>\n",
       "      <td>0.044</td>\n",
       "      <td>47.0</td>\n",
       "      <td>179.0</td>\n",
       "      <td>0.9924</td>\n",
       "      <td>3.30</td>\n",
       "      <td>0.57</td>\n",
       "      <td>10.9</td>\n",
       "      <td>7</td>\n",
       "    </tr>\n",
       "    <tr>\n",
       "      <th>112</th>\n",
       "      <td>7.2</td>\n",
       "      <td>0.31</td>\n",
       "      <td>0.50</td>\n",
       "      <td>13.3</td>\n",
       "      <td>0.056</td>\n",
       "      <td>68.0</td>\n",
       "      <td>195.0</td>\n",
       "      <td>0.9982</td>\n",
       "      <td>3.01</td>\n",
       "      <td>0.47</td>\n",
       "      <td>9.2</td>\n",
       "      <td>5</td>\n",
       "    </tr>\n",
       "    <tr>\n",
       "      <th>67</th>\n",
       "      <td>6.7</td>\n",
       "      <td>0.25</td>\n",
       "      <td>0.13</td>\n",
       "      <td>1.2</td>\n",
       "      <td>0.041</td>\n",
       "      <td>81.0</td>\n",
       "      <td>174.0</td>\n",
       "      <td>0.9920</td>\n",
       "      <td>3.14</td>\n",
       "      <td>0.42</td>\n",
       "      <td>9.8</td>\n",
       "      <td>5</td>\n",
       "    </tr>\n",
       "  </tbody>\n",
       "</table>\n",
       "</div>"
      ],
      "text/plain": [
       "     fixed acidity  volatile acidity  citric acid  residual sugar  chlorides  \\\n",
       "128            6.1              0.30         0.56             2.8      0.044   \n",
       "112            7.2              0.31         0.50            13.3      0.056   \n",
       "67             6.7              0.25         0.13             1.2      0.041   \n",
       "\n",
       "     free sulfur dioxide  total sulfur dioxide  density    pH  sulphates  \\\n",
       "128                 47.0                 179.0   0.9924  3.30       0.57   \n",
       "112                 68.0                 195.0   0.9982  3.01       0.47   \n",
       "67                  81.0                 174.0   0.9920  3.14       0.42   \n",
       "\n",
       "     alcohol  quality  \n",
       "128     10.9        7  \n",
       "112      9.2        5  \n",
       "67       9.8        5  "
      ]
     },
     "execution_count": 4,
     "metadata": {},
     "output_type": "execute_result"
    }
   ],
   "source": [
    "wine.sample(3)"
   ]
  },
  {
   "cell_type": "markdown",
   "metadata": {},
   "source": [
    "#### This dataset tells in which country the engine of the car was made depending on the attributes shown above"
   ]
  },
  {
   "cell_type": "markdown",
   "metadata": {},
   "source": [
    "#### Normalizing the dataset"
   ]
  },
  {
   "cell_type": "code",
   "execution_count": 5,
   "metadata": {
    "collapsed": true
   },
   "outputs": [],
   "source": [
    "col=['free sulfur dioxide','total sulfur dioxide']"
   ]
  },
  {
   "cell_type": "code",
   "execution_count": 6,
   "metadata": {
    "collapsed": true
   },
   "outputs": [],
   "source": [
    "for i in col:\n",
    "    wine[i]=(wine[i]-wine[i].min())/(wine[i].max()-wine[i].min())\n",
    "    "
   ]
  },
  {
   "cell_type": "code",
   "execution_count": 7,
   "metadata": {
    "collapsed": false
   },
   "outputs": [
    {
     "data": {
      "text/html": [
       "<div>\n",
       "<table border=\"1\" class=\"dataframe\">\n",
       "  <thead>\n",
       "    <tr style=\"text-align: right;\">\n",
       "      <th></th>\n",
       "      <th>fixed acidity</th>\n",
       "      <th>volatile acidity</th>\n",
       "      <th>citric acid</th>\n",
       "      <th>residual sugar</th>\n",
       "      <th>chlorides</th>\n",
       "      <th>free sulfur dioxide</th>\n",
       "      <th>total sulfur dioxide</th>\n",
       "      <th>density</th>\n",
       "      <th>pH</th>\n",
       "      <th>sulphates</th>\n",
       "      <th>alcohol</th>\n",
       "      <th>quality</th>\n",
       "    </tr>\n",
       "  </thead>\n",
       "  <tbody>\n",
       "    <tr>\n",
       "      <th>124</th>\n",
       "      <td>6.4</td>\n",
       "      <td>0.13</td>\n",
       "      <td>0.47</td>\n",
       "      <td>1.6</td>\n",
       "      <td>0.092</td>\n",
       "      <td>0.467532</td>\n",
       "      <td>0.533654</td>\n",
       "      <td>0.9928</td>\n",
       "      <td>3.21</td>\n",
       "      <td>0.36</td>\n",
       "      <td>9.8</td>\n",
       "      <td>6</td>\n",
       "    </tr>\n",
       "  </tbody>\n",
       "</table>\n",
       "</div>"
      ],
      "text/plain": [
       "     fixed acidity  volatile acidity  citric acid  residual sugar  chlorides  \\\n",
       "124            6.4              0.13         0.47             1.6      0.092   \n",
       "\n",
       "     free sulfur dioxide  total sulfur dioxide  density    pH  sulphates  \\\n",
       "124             0.467532              0.533654   0.9928  3.21       0.36   \n",
       "\n",
       "     alcohol  quality  \n",
       "124      9.8        6  "
      ]
     },
     "execution_count": 7,
     "metadata": {},
     "output_type": "execute_result"
    }
   ],
   "source": [
    "wine.sample()"
   ]
  },
  {
   "cell_type": "code",
   "execution_count": 8,
   "metadata": {
    "collapsed": true
   },
   "outputs": [],
   "source": [
    "features=wine.columns[:-1]\n",
    "target=wine.columns[-1]"
   ]
  },
  {
   "cell_type": "code",
   "execution_count": 9,
   "metadata": {
    "collapsed": false
   },
   "outputs": [
    {
     "data": {
      "text/plain": [
       "Index(['fixed acidity', 'volatile acidity', 'citric acid', 'residual sugar',\n",
       "       'chlorides', 'free sulfur dioxide', 'total sulfur dioxide', 'density',\n",
       "       'pH', 'sulphates', 'alcohol'],\n",
       "      dtype='object')"
      ]
     },
     "execution_count": 9,
     "metadata": {},
     "output_type": "execute_result"
    }
   ],
   "source": [
    "features"
   ]
  },
  {
   "cell_type": "code",
   "execution_count": 10,
   "metadata": {
    "collapsed": false
   },
   "outputs": [
    {
     "data": {
      "text/plain": [
       "'quality'"
      ]
     },
     "execution_count": 10,
     "metadata": {},
     "output_type": "execute_result"
    }
   ],
   "source": [
    "target"
   ]
  },
  {
   "cell_type": "code",
   "execution_count": 11,
   "metadata": {
    "collapsed": false
   },
   "outputs": [],
   "source": [
    "train,test=train_test_split(wine,test_size=0.2)"
   ]
  },
  {
   "cell_type": "code",
   "execution_count": 12,
   "metadata": {
    "collapsed": false
   },
   "outputs": [
    {
     "data": {
      "text/plain": [
       "159"
      ]
     },
     "execution_count": 12,
     "metadata": {},
     "output_type": "execute_result"
    }
   ],
   "source": [
    "len(train)"
   ]
  },
  {
   "cell_type": "code",
   "execution_count": 13,
   "metadata": {
    "collapsed": false
   },
   "outputs": [
    {
     "data": {
      "text/plain": [
       "40"
      ]
     },
     "execution_count": 13,
     "metadata": {},
     "output_type": "execute_result"
    }
   ],
   "source": [
    "len(test)"
   ]
  },
  {
   "cell_type": "code",
   "execution_count": 14,
   "metadata": {
    "collapsed": false
   },
   "outputs": [
    {
     "name": "stdout",
     "output_type": "stream",
     "text": [
      "47.5 % accuracy obtained with kernel = linear\n",
      "50.0 % accuracy obtained with kernel = poly\n",
      "47.5 % accuracy obtained with kernel = rbf\n"
     ]
    }
   ],
   "source": [
    "kernels = ('linear','poly','rbf')\n",
    "accuracies = []\n",
    "for index, kernel in enumerate(kernels):\n",
    "    model = svm.SVC(kernel=kernel)\n",
    "    model.fit(train[features], train[target])\n",
    "    predicted=model.predict(test[features])\n",
    "    acc = accuracy_score(test[target],predicted)*100\n",
    "    accuracies.append(acc)\n",
    "    print(\"{} % accuracy obtained with kernel = {}\".format(acc, kernel))"
   ]
  },
  {
   "cell_type": "code",
   "execution_count": 23,
   "metadata": {
    "collapsed": false
   },
   "outputs": [
    {
     "data": {
      "text/html": [
       "<div>\n",
       "<table border=\"1\" class=\"dataframe\">\n",
       "  <thead>\n",
       "    <tr style=\"text-align: right;\">\n",
       "      <th></th>\n",
       "      <th>fixed acidity</th>\n",
       "      <th>volatile acidity</th>\n",
       "      <th>citric acid</th>\n",
       "      <th>residual sugar</th>\n",
       "      <th>chlorides</th>\n",
       "      <th>free sulfur dioxide</th>\n",
       "      <th>total sulfur dioxide</th>\n",
       "      <th>density</th>\n",
       "      <th>pH</th>\n",
       "      <th>sulphates</th>\n",
       "      <th>alcohol</th>\n",
       "      <th>quality</th>\n",
       "    </tr>\n",
       "  </thead>\n",
       "  <tbody>\n",
       "    <tr>\n",
       "      <th>103</th>\n",
       "      <td>7.5</td>\n",
       "      <td>0.305</td>\n",
       "      <td>0.4</td>\n",
       "      <td>18.9</td>\n",
       "      <td>0.059</td>\n",
       "      <td>0.519481</td>\n",
       "      <td>0.591346</td>\n",
       "      <td>1.0</td>\n",
       "      <td>2.99</td>\n",
       "      <td>0.46</td>\n",
       "      <td>9.0</td>\n",
       "      <td>5</td>\n",
       "    </tr>\n",
       "  </tbody>\n",
       "</table>\n",
       "</div>"
      ],
      "text/plain": [
       "     fixed acidity  volatile acidity  citric acid  residual sugar  chlorides  \\\n",
       "103            7.5             0.305          0.4            18.9      0.059   \n",
       "\n",
       "     free sulfur dioxide  total sulfur dioxide  density    pH  sulphates  \\\n",
       "103             0.519481              0.591346      1.0  2.99       0.46   \n",
       "\n",
       "     alcohol  quality  \n",
       "103      9.0        5  "
      ]
     },
     "execution_count": 23,
     "metadata": {},
     "output_type": "execute_result"
    }
   ],
   "source": [
    "test.sample()"
   ]
  },
  {
   "cell_type": "code",
   "execution_count": 16,
   "metadata": {
    "collapsed": false
   },
   "outputs": [
    {
     "data": {
      "text/plain": [
       "array([6, 5, 6, 6, 6, 5, 6, 6, 6, 5, 7, 5, 7, 5, 5, 5, 6, 6, 5, 6, 6, 6, 6,\n",
       "       5, 6, 7, 6, 6, 6, 6, 5, 6, 6, 5, 6, 6, 6, 6, 7, 6], dtype=int64)"
      ]
     },
     "execution_count": 16,
     "metadata": {},
     "output_type": "execute_result"
    }
   ],
   "source": [
    "model.predict(test[features])"
   ]
  },
  {
   "cell_type": "markdown",
   "metadata": {},
   "source": [
    "# Visualize the decision boundaries"
   ]
  },
  {
   "cell_type": "code",
   "execution_count": 17,
   "metadata": {
    "collapsed": true
   },
   "outputs": [],
   "source": [
    "features=['volatile acidity','residual sugar']\n",
    "# the features are Horsepower and acceleration "
   ]
  },
  {
   "cell_type": "code",
   "execution_count": 18,
   "metadata": {
    "collapsed": true
   },
   "outputs": [],
   "source": [
    "deg=5"
   ]
  },
  {
   "cell_type": "code",
   "execution_count": 19,
   "metadata": {
    "collapsed": false
   },
   "outputs": [],
   "source": [
    "svc = svm.SVC(kernel='linear').fit(train[features],train[target] )\n",
    "rbf_svc = svm.SVC(kernel='rbf', gamma=0.8).fit(train[features], train[target])\n",
    "poly_svc = svm.SVC(kernel='poly', degree=deg).fit(train[features], train[target])"
   ]
  },
  {
   "cell_type": "code",
   "execution_count": 20,
   "metadata": {
    "collapsed": false
   },
   "outputs": [],
   "source": [
    "#Create a mesh to plot in\n",
    "h = .02  # step size in the mesh\n",
    "x_min, x_max = wine[features[0]].min() - 1, wine[features[0]].max() + 1\n",
    "y_min, y_max = wine[features[1]].min() - 1, wine[features[1]].max() + 1\n",
    "xx, yy = np.meshgrid(np.arange(x_min, x_max, h),\n",
    "                     np.arange(y_min, y_max, h))"
   ]
  },
  {
   "cell_type": "code",
   "execution_count": 21,
   "metadata": {
    "collapsed": false
   },
   "outputs": [
    {
     "data": {
      "image/png": "[encoded data removed]",
      "text/plain": [
       "<matplotlib.figure.Figure at 0x1ff422a24e0>"
      ]
     },
     "metadata": {},
     "output_type": "display_data"
    },
    {
     "data": {
      "image/png": "[encoded data removed]",
      "text/plain": [
       "<matplotlib.figure.Figure at 0x1ff428db710>"
      ]
     },
     "metadata": {},
     "output_type": "display_data"
    },
    {
     "data": {
      "image/png": "[encoded data removed]",
      "text/plain": [
       "<matplotlib.figure.Figure at 0x1ff4290f198>"
      ]
     },
     "metadata": {},
     "output_type": "display_data"
    }
   ],
   "source": [
    "#Define title for the plots\n",
    "string='SVC with polynomial (degree '+str(deg) +' ) kernel'\n",
    "titles = ['SVC with linear kernel',\n",
    "          'SVC with RBF kernel',\n",
    "           string]\n",
    "\n",
    "\n",
    "for i, model in enumerate((svc, rbf_svc, poly_svc)):\n",
    "    # Plot the decision boundary. For that, we will assign a color to each\n",
    "    # point in the mesh [x_min, m_max]x[y_min, y_max].\n",
    "    plt.figure(i)\n",
    "\n",
    "    Z = model.predict(np.c_[xx.ravel(), yy.ravel()])# ravel returns continuous flaten array\n",
    "\n",
    "    # Put the result into a color plot\n",
    "    Z = Z.reshape(xx.shape)\n",
    "    plt.contourf(xx, yy, Z, cmap=plt.cm.Paired, alpha=0.8)\n",
    "    #cmap stands for color map you can also make it to None\n",
    "\n",
    "    \n",
    "    \n",
    "    # Plot also the training points\n",
    "    plt.scatter(wine[features[0]], wine[features[1]], c=wine[target], cmap=plt.cm.brg)\n",
    "    plt.xlabel(features[0])\n",
    "    plt.ylabel(features[1])\n",
    "    plt.xlim(xx.min(), xx.max())\n",
    "    plt.ylim(yy.min(), yy.max())\n",
    "    plt.xticks(())\n",
    "    plt.yticks(())\n",
    "    plt.title(titles[i])\n",
    "\n",
    "plt.show()"
   ]
  },
  {
   "cell_type": "markdown",
   "metadata": {
    "collapsed": true
   },
   "source": [
    "### The dataset is not properly classified using RBF and poly with kernel 5"
   ]
  },
  {
   "cell_type": "code",
   "execution_count": 22,
   "metadata": {
    "collapsed": false
   },
   "outputs": [
    {
     "name": "stdout",
     "output_type": "stream",
     "text": [
      "The support vectors for linear kernel are:\n",
      " [[  0.28    8.5  ]\n",
      " [  0.45    4.4  ]\n",
      " [  0.595   5.2  ]\n",
      " [  0.36   10.5  ]\n",
      " [  0.67    1.2  ]\n",
      " [  0.485   1.5  ]\n",
      " [  0.48    0.8  ]\n",
      " [  0.27    4.8  ]\n",
      " [  0.12    9.6  ]\n",
      " [  0.42    9.85 ]\n",
      " [  0.27   18.75 ]\n",
      " [  0.18    1.2  ]\n",
      " [  0.27   17.7  ]\n",
      " [  0.37   10.5  ]\n",
      " [  0.24   17.95 ]\n",
      " [  0.33    1.3  ]\n",
      " [  0.54    5.4  ]\n",
      " [  0.28    1.7  ]\n",
      " [  0.23    4.2  ]\n",
      " [  0.26   10.4  ]\n",
      " [  0.21   12.1  ]\n",
      " [  0.31   13.3  ]\n",
      " [  0.3     4.2  ]\n",
      " [  0.27    1.45 ]\n",
      " [  0.31    2.2  ]\n",
      " [  0.24   10.1  ]\n",
      " [  0.47    1.1  ]\n",
      " [  0.46    4.4  ]\n",
      " [  0.18    8.8  ]\n",
      " [  0.26   11.9  ]\n",
      " [  0.39    7.   ]\n",
      " [  0.27   14.95 ]\n",
      " [  0.24   13.1  ]\n",
      " [  0.18    1.2  ]\n",
      " [  0.39    5.4  ]\n",
      " [  0.27    8.1  ]\n",
      " [  0.36    5.7  ]\n",
      " [  0.23   13.   ]\n",
      " [  0.24   10.1  ]\n",
      " [  0.27    7.5  ]\n",
      " [  0.34    1.2  ]\n",
      " [  0.24   15.8  ]\n",
      " [  0.32   13.3  ]\n",
      " [  0.29   11.9  ]\n",
      " [  0.37   10.5  ]\n",
      " [  0.67    1.5  ]\n",
      " [  0.43   11.8  ]\n",
      " [  0.25   13.5  ]\n",
      " [  0.425  13.1  ]\n",
      " [  0.31   13.3  ]\n",
      " [  0.24   17.95 ]\n",
      " [  0.41    9.2  ]\n",
      " [  0.43   11.8  ]\n",
      " [  0.36    4.8  ]\n",
      " [  0.26    7.8  ]\n",
      " [  0.27   15.7  ]\n",
      " [  0.28   22.   ]\n",
      " [  0.3     4.6  ]\n",
      " [  0.41    9.2  ]\n",
      " [  0.31    7.5  ]\n",
      " [  0.25   13.3  ]\n",
      " [  0.32    7.   ]\n",
      " [  0.24   14.   ]\n",
      " [  0.28    8.5  ]\n",
      " [  0.23    7.5  ]\n",
      " [  0.26   12.4  ]\n",
      " [  0.24    2.9  ]\n",
      " [  0.24   10.4  ]\n",
      " [  0.3     1.5  ]\n",
      " [  0.38    4.6  ]\n",
      " [  0.34    1.1  ]\n",
      " [  0.25    4.1  ]\n",
      " [  0.25    9.   ]\n",
      " [  0.19   12.4  ]\n",
      " [  0.22    1.4  ]\n",
      " [  0.21   11.9  ]\n",
      " [  0.27    7.8  ]\n",
      " [  0.44   11.8  ]\n",
      " [  0.255   1.1  ]\n",
      " [  0.25    1.3  ]\n",
      " [  0.21    1.2  ]\n",
      " [  0.3     1.6  ]\n",
      " [  0.18   10.2  ]\n",
      " [  0.19    1.1  ]\n",
      " [  0.34   15.9  ]\n",
      " [  0.22    8.2  ]\n",
      " [  0.3     3.5  ]\n",
      " [  0.24    1.4  ]\n",
      " [  0.2    16.   ]\n",
      " [  0.14    1.7  ]\n",
      " [  0.19    5.   ]\n",
      " [  0.25    4.1  ]\n",
      " [  0.23    8.5  ]\n",
      " [  0.16    1.4  ]\n",
      " [  0.23    1.   ]\n",
      " [  0.27    8.7  ]\n",
      " [  0.24   14.   ]\n",
      " [  0.22    4.9  ]\n",
      " [  0.31    3.3  ]\n",
      " [  0.28    6.9  ]\n",
      " [  0.19    1.5  ]\n",
      " [  0.25    5.5  ]\n",
      " [  0.3     1.6  ]\n",
      " [  0.39   11.   ]\n",
      " [  0.23   16.5  ]\n",
      " [  0.24    1.4  ]\n",
      " [  0.48    1.1  ]\n",
      " [  0.33    5.5  ]\n",
      " [  0.3     2.7  ]\n",
      " [  0.23    7.5  ]\n",
      " [  0.34   15.9  ]\n",
      " [  0.17    8.5  ]\n",
      " [  0.27    1.1  ]\n",
      " [  0.39   11.   ]\n",
      " [  0.28    6.9  ]\n",
      " [  0.2     0.9  ]\n",
      " [  0.27   20.7  ]\n",
      " [  0.13   14.4  ]\n",
      " [  0.27    1.3  ]\n",
      " [  0.31    7.4  ]\n",
      " [  0.28    8.7  ]\n",
      " [  0.24    9.4  ]\n",
      " [  0.23    1.2  ]\n",
      " [  0.23   16.5  ]\n",
      " [  0.23    8.5  ]\n",
      " [  0.23    1.4  ]\n",
      " [  0.38    4.6  ]\n",
      " [  0.33    1.2  ]\n",
      " [  0.24   14.   ]\n",
      " [  0.24    7.6  ]\n",
      " [  0.34    4.6  ]\n",
      " [  0.25    1.1  ]\n",
      " [  0.32    1.3  ]\n",
      " [  0.16    1.5  ]\n",
      " [  0.32    1.5  ]\n",
      " [  0.19    1.9  ]\n",
      " [  0.21    1.8  ]\n",
      " [  0.17    1.7  ]\n",
      " [  0.18    1.4  ]\n",
      " [  0.18    1.4  ]\n",
      " [  0.24    1.7  ]\n",
      " [  0.24    7.6  ]\n",
      " [  0.26    6.4  ]\n",
      " [  0.22    4.55 ]\n",
      " [  0.32    2.   ]\n",
      " [  0.22    8.   ]\n",
      " [  0.16    1.1  ]\n",
      " [  0.17    1.5  ]\n",
      " [  0.46    2.4  ]\n",
      " [  0.26    1.7  ]\n",
      " [  0.44    1.4  ]\n",
      " [  0.44    1.4  ]\n",
      " [  0.23    2.1  ]\n",
      " [  0.23    2.1  ]\n",
      " [  0.53    3.8  ]]\n",
      "\n",
      "\n",
      "The support vectors for radial basis function are:\n",
      " [[  0.28    8.5  ]\n",
      " [  0.45    4.4  ]\n",
      " [  0.595   5.2  ]\n",
      " [  0.36   10.5  ]\n",
      " [  0.67    1.2  ]\n",
      " [  0.485   1.5  ]\n",
      " [  0.48    0.8  ]\n",
      " [  0.27    4.8  ]\n",
      " [  0.12    9.6  ]\n",
      " [  0.42    9.85 ]\n",
      " [  0.27   18.75 ]\n",
      " [  0.18    1.2  ]\n",
      " [  0.27   17.7  ]\n",
      " [  0.37   10.5  ]\n",
      " [  0.33    1.3  ]\n",
      " [  0.54    5.4  ]\n",
      " [  0.28    1.7  ]\n",
      " [  0.23    4.2  ]\n",
      " [  0.26   10.4  ]\n",
      " [  0.21   12.1  ]\n",
      " [  0.31   13.3  ]\n",
      " [  0.3     4.2  ]\n",
      " [  0.27    1.45 ]\n",
      " [  0.31    2.2  ]\n",
      " [  0.47    1.1  ]\n",
      " [  0.46    4.4  ]\n",
      " [  0.18    8.8  ]\n",
      " [  0.26   11.9  ]\n",
      " [  0.39    7.   ]\n",
      " [  0.27   14.95 ]\n",
      " [  0.24   13.1  ]\n",
      " [  0.18    1.2  ]\n",
      " [  0.39    5.4  ]\n",
      " [  0.27    8.1  ]\n",
      " [  0.36    5.7  ]\n",
      " [  0.24   10.1  ]\n",
      " [  0.27    7.5  ]\n",
      " [  0.34    1.2  ]\n",
      " [  0.24   15.8  ]\n",
      " [  0.32   13.3  ]\n",
      " [  0.29   11.9  ]\n",
      " [  0.37   10.5  ]\n",
      " [  0.67    1.5  ]\n",
      " [  0.43   11.8  ]\n",
      " [  0.25   13.5  ]\n",
      " [  0.425  13.1  ]\n",
      " [  0.31   13.3  ]\n",
      " [  0.41    9.2  ]\n",
      " [  0.43   11.8  ]\n",
      " [  0.36    4.8  ]\n",
      " [  0.26    7.8  ]\n",
      " [  0.27   15.7  ]\n",
      " [  0.28   22.   ]\n",
      " [  0.3     4.6  ]\n",
      " [  0.41    9.2  ]\n",
      " [  0.31    7.5  ]\n",
      " [  0.25   13.3  ]\n",
      " [  0.24   14.   ]\n",
      " [  0.28    8.5  ]\n",
      " [  0.23    7.5  ]\n",
      " [  0.26   12.4  ]\n",
      " [  0.24   10.4  ]\n",
      " [  0.3     1.5  ]\n",
      " [  0.38    4.6  ]\n",
      " [  0.34    1.1  ]\n",
      " [  0.25    4.1  ]\n",
      " [  0.25    9.   ]\n",
      " [  0.19   12.4  ]\n",
      " [  0.21   11.9  ]\n",
      " [  0.27    7.8  ]\n",
      " [  0.44   11.8  ]\n",
      " [  0.3     1.6  ]\n",
      " [  0.18   10.2  ]\n",
      " [  0.19    1.1  ]\n",
      " [  0.34   15.9  ]\n",
      " [  0.22    8.2  ]\n",
      " [  0.3     3.5  ]\n",
      " [  0.24    1.4  ]\n",
      " [  0.2    16.   ]\n",
      " [  0.14    1.7  ]\n",
      " [  0.19    5.   ]\n",
      " [  0.25    4.1  ]\n",
      " [  0.16    1.4  ]\n",
      " [  0.23    1.   ]\n",
      " [  0.27    8.7  ]\n",
      " [  0.24   14.   ]\n",
      " [  0.22    4.9  ]\n",
      " [  0.28    6.9  ]\n",
      " [  0.19    1.5  ]\n",
      " [  0.25    5.5  ]\n",
      " [  0.3     1.6  ]\n",
      " [  0.39   11.   ]\n",
      " [  0.23   16.5  ]\n",
      " [  0.24    1.4  ]\n",
      " [  0.48    1.1  ]\n",
      " [  0.33    5.5  ]\n",
      " [  0.3     2.7  ]\n",
      " [  0.23    7.5  ]\n",
      " [  0.34   15.9  ]\n",
      " [  0.27    1.1  ]\n",
      " [  0.25    2.05 ]\n",
      " [  0.39   11.   ]\n",
      " [  0.2     2.   ]\n",
      " [  0.22    1.5  ]\n",
      " [  0.28    6.9  ]\n",
      " [  0.2     0.9  ]\n",
      " [  0.27   20.7  ]\n",
      " [  0.19    1.6  ]\n",
      " [  0.13   14.4  ]\n",
      " [  0.27    1.3  ]\n",
      " [  0.31    7.4  ]\n",
      " [  0.28    8.7  ]\n",
      " [  0.24    9.4  ]\n",
      " [  0.23   16.5  ]\n",
      " [  0.23    8.5  ]\n",
      " [  0.23    1.4  ]\n",
      " [  0.38    4.6  ]\n",
      " [  0.33    1.2  ]\n",
      " [  0.24   14.   ]\n",
      " [  0.24    7.6  ]\n",
      " [  0.34    4.6  ]\n",
      " [  0.25    1.1  ]\n",
      " [  0.32    1.3  ]\n",
      " [  0.16    1.5  ]\n",
      " [  0.32    1.5  ]\n",
      " [  0.19    1.9  ]\n",
      " [  0.21    1.8  ]\n",
      " [  0.17    1.7  ]\n",
      " [  0.18    1.4  ]\n",
      " [  0.18    1.4  ]\n",
      " [  0.24    1.7  ]\n",
      " [  0.24    7.6  ]\n",
      " [  0.26    6.4  ]\n",
      " [  0.22    4.55 ]\n",
      " [  0.32    2.   ]\n",
      " [  0.22    8.   ]\n",
      " [  0.16    1.1  ]\n",
      " [  0.17    1.5  ]\n",
      " [  0.46    2.4  ]\n",
      " [  0.26    1.7  ]\n",
      " [  0.44    1.4  ]\n",
      " [  0.44    1.4  ]\n",
      " [  0.23    2.1  ]\n",
      " [  0.23    2.1  ]\n",
      " [  0.53    3.8  ]]\n",
      "\n",
      "\n",
      "The support vectors for polynomial kernel are:\n",
      " [[  0.28    8.5  ]\n",
      " [  0.45    4.4  ]\n",
      " [  0.595   5.2  ]\n",
      " [  0.36   10.5  ]\n",
      " [  0.67    1.2  ]\n",
      " [  0.485   1.5  ]\n",
      " [  0.48    0.8  ]\n",
      " [  0.27    4.8  ]\n",
      " [  0.42    9.85 ]\n",
      " [  0.18    1.2  ]\n",
      " [  0.27   17.7  ]\n",
      " [  0.33    1.3  ]\n",
      " [  0.54    5.4  ]\n",
      " [  0.28    1.7  ]\n",
      " [  0.23    4.2  ]\n",
      " [  0.21   12.1  ]\n",
      " [  0.3     4.2  ]\n",
      " [  0.27    1.45 ]\n",
      " [  0.31    2.2  ]\n",
      " [  0.24   10.1  ]\n",
      " [  0.47    1.1  ]\n",
      " [  0.46    4.4  ]\n",
      " [  0.39    7.   ]\n",
      " [  0.27   14.95 ]\n",
      " [  0.24   13.1  ]\n",
      " [  0.18    1.2  ]\n",
      " [  0.27    8.1  ]\n",
      " [  0.23   13.   ]\n",
      " [  0.24   10.1  ]\n",
      " [  0.27    7.5  ]\n",
      " [  0.34    1.2  ]\n",
      " [  0.32   13.3  ]\n",
      " [  0.29   11.9  ]\n",
      " [  0.67    1.5  ]\n",
      " [  0.43   11.8  ]\n",
      " [  0.425  13.1  ]\n",
      " [  0.41    9.2  ]\n",
      " [  0.43   11.8  ]\n",
      " [  0.26    7.8  ]\n",
      " [  0.28   22.   ]\n",
      " [  0.3     4.6  ]\n",
      " [  0.41    9.2  ]\n",
      " [  0.25   13.3  ]\n",
      " [  0.32    7.   ]\n",
      " [  0.28    8.5  ]\n",
      " [  0.23    7.5  ]\n",
      " [  0.24    2.9  ]\n",
      " [  0.24   10.4  ]\n",
      " [  0.3     1.5  ]\n",
      " [  0.38    4.6  ]\n",
      " [  0.34    1.1  ]\n",
      " [  0.25    4.1  ]\n",
      " [  0.21   11.9  ]\n",
      " [  0.27    7.8  ]\n",
      " [  0.44   11.8  ]\n",
      " [  0.255   1.1  ]\n",
      " [  0.25    1.3  ]\n",
      " [  0.3     1.6  ]\n",
      " [  0.19    1.1  ]\n",
      " [  0.34   15.9  ]\n",
      " [  0.3     3.5  ]\n",
      " [  0.24    1.4  ]\n",
      " [  0.2    16.   ]\n",
      " [  0.25    4.1  ]\n",
      " [  0.27    8.7  ]\n",
      " [  0.22    4.9  ]\n",
      " [  0.31    3.3  ]\n",
      " [  0.28    6.9  ]\n",
      " [  0.25    5.5  ]\n",
      " [  0.3     1.6  ]\n",
      " [  0.39   11.   ]\n",
      " [  0.24    1.4  ]\n",
      " [  0.48    1.1  ]\n",
      " [  0.33    5.5  ]\n",
      " [  0.3     2.7  ]\n",
      " [  0.23    7.5  ]\n",
      " [  0.34   15.9  ]\n",
      " [  0.27    1.1  ]\n",
      " [  0.25    2.05 ]\n",
      " [  0.39   11.   ]\n",
      " [  0.22    1.5  ]\n",
      " [  0.28    6.9  ]\n",
      " [  0.27   20.7  ]\n",
      " [  0.19    1.6  ]\n",
      " [  0.27    1.3  ]\n",
      " [  0.24    9.4  ]\n",
      " [  0.23    1.2  ]\n",
      " [  0.23    1.4  ]\n",
      " [  0.38    4.6  ]\n",
      " [  0.33    1.2  ]\n",
      " [  0.24    7.6  ]\n",
      " [  0.34    4.6  ]\n",
      " [  0.25    1.1  ]\n",
      " [  0.32    1.3  ]\n",
      " [  0.16    1.5  ]\n",
      " [  0.32    1.5  ]\n",
      " [  0.19    1.9  ]\n",
      " [  0.21    1.8  ]\n",
      " [  0.17    1.7  ]\n",
      " [  0.18    1.4  ]\n",
      " [  0.18    1.4  ]\n",
      " [  0.24    1.7  ]\n",
      " [  0.24    7.6  ]\n",
      " [  0.26    6.4  ]\n",
      " [  0.22    4.55 ]\n",
      " [  0.32    2.   ]\n",
      " [  0.22    8.   ]\n",
      " [  0.16    1.1  ]\n",
      " [  0.17    1.5  ]\n",
      " [  0.46    2.4  ]\n",
      " [  0.26    1.7  ]\n",
      " [  0.44    1.4  ]\n",
      " [  0.44    1.4  ]\n",
      " [  0.23    2.1  ]\n",
      " [  0.23    2.1  ]\n",
      " [  0.53    3.8  ]]\n"
     ]
    }
   ],
   "source": [
    "#Checking the support vectors of the linear kernel\n",
    "print(\"The support vectors for linear kernel are:\\n\", svc.support_vectors_)\n",
    "print()\n",
    "print()\n",
    "\n",
    "#Checking the support vectors of the rbf kernel\n",
    "print(\"The support vectors for radial basis function are:\\n\", rbf_svc.support_vectors_)\n",
    "print()\n",
    "print()\n",
    "\n",
    "#Checking the support vectors of the polynomial kernel (for example)\n",
    "print(\"The support vectors for polynomial kernel are:\\n\", poly_svc.support_vectors_)\n"
   ]
  },
  {
   "cell_type": "code",
   "execution_count": null,
   "metadata": {
    "collapsed": true
   },
   "outputs": [],
   "source": []
  },
  {
   "cell_type": "code",
   "execution_count": null,
   "metadata": {
    "collapsed": true
   },
   "outputs": [],
   "source": []
  },
  {
   "cell_type": "code",
   "execution_count": null,
   "metadata": {
    "collapsed": true
   },
   "outputs": [],
   "source": []
  },
  {
   "cell_type": "code",
   "execution_count": null,
   "metadata": {
    "collapsed": true
   },
   "outputs": [],
   "source": []
  }
 ],
 "metadata": {
  "anaconda-cloud": {},
  "kernelspec": {
   "display_name": "Python [conda root]",
   "language": "python",
   "name": "conda-root-py"
  },
  "language_info": {
   "codemirror_mode": {
    "name": "ipython",
    "version": 3
   },
   "file_extension": ".py",
   "mimetype": "text/x-python",
   "name": "python",
   "nbconvert_exporter": "python",
   "pygments_lexer": "ipython3",
   "version": "3.5.2"
  }
 },
 "nbformat": 4,
 "nbformat_minor": 1
}
